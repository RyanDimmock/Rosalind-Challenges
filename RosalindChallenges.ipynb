{
 "cells": [
  {
   "cell_type": "code",
   "execution_count": 1,
   "id": "89358dbf",
   "metadata": {},
   "outputs": [
    {
     "data": {
      "text/plain": [
       "25"
      ]
     },
     "execution_count": 1,
     "metadata": {},
     "output_type": "execute_result"
    }
   ],
   "source": [
    "3*3 + 4*4"
   ]
  },
  {
   "cell_type": "code",
   "execution_count": 2,
   "id": "631f9d14",
   "metadata": {},
   "outputs": [
    {
     "data": {
      "text/plain": [
       "164"
      ]
     },
     "execution_count": 2,
     "metadata": {},
     "output_type": "execute_result"
    }
   ],
   "source": [
    "963^2+867^2\n"
   ]
  },
  {
   "cell_type": "code",
   "execution_count": 3,
   "id": "41ad4a4a",
   "metadata": {},
   "outputs": [
    {
     "data": {
      "text/plain": [
       "1679058"
      ]
     },
     "execution_count": 3,
     "metadata": {},
     "output_type": "execute_result"
    }
   ],
   "source": [
    "(963*963)+(867*867)"
   ]
  },
  {
   "cell_type": "code",
   "execution_count": 2,
   "id": "2c2dd7f4",
   "metadata": {},
   "outputs": [
    {
     "name": "stdout",
     "output_type": "stream",
     "text": [
      "Pleurodele\n",
      "regiu\n"
     ]
    }
   ],
   "source": [
    "S = \"bGn1wSZD6yC2BD1OZhGkcL05CcybBknZZU84XLJ7jna8xEEmbVvHaIbFMgeUcAkGmp1DU9Tdi4AJX28NCvQrtPleurodelesG7rYgu8NqrpBU2y10VnTxiKxxloregiusWETACznGl9sBqw0AaYFZ1XzCrQZJkGfqgOwwoCmLFubfgYrX9twGpujJIZIDn.\"\n",
    "print(S[85:95]) \n",
    "print(S[123:128])"
   ]
  },
  {
   "cell_type": "code",
   "execution_count": 4,
   "id": "34ea4934",
   "metadata": {},
   "outputs": [
    {
     "name": "stdout",
     "output_type": "stream",
     "text": [
      "Alloporus\n",
      "maurus\n"
     ]
    }
   ],
   "source": [
    "S = \"gULFFnZ04dJgY5yKZkYnCP9BYCnabwDHRMDFieASPd907EN4RBMGeOQkpIRge2aPfLlHM2AlloporusY1dUxLOfRevAa3JPwInQ8AQrUwcMQHwjllrTvmoraAgkbEvp66QsH9LPfXDBmaurusfUF1Y1JmkcVZ1M3P61KuU4x8vrsifJski2ZlHdDsUd1K6poJHI1lc.\"\n",
    "print(S[70:79])\n",
    "print(S[139:145])\n"
   ]
  },
  {
   "cell_type": "code",
   "execution_count": 12,
   "id": "9e16a798",
   "metadata": {},
   "outputs": [
    {
     "name": "stdout",
     "output_type": "stream",
     "text": [
      "Alloporus\n",
      "maurus\n"
     ]
    },
    {
     "data": {
      "text/plain": [
       "(None, None)"
      ]
     },
     "execution_count": 12,
     "metadata": {},
     "output_type": "execute_result"
    }
   ],
   "source": [
    "a = 70 \n",
    "b = 78 \n",
    "c = 139 \n",
    "d = 144\n",
    "s = \"gULFFnZ04dJgY5yKZkYnCP9BYCnabwDHRMDFieASPd907EN4RBMGeOQkpIRge2aPfLlHM2AlloporusY1dUxLOfRevAa3JPwInQ8AQrUwcMQHwjllrTvmoraAgkbEvp66QsH9LPfXDBmaurusfUF1Y1JmkcVZ1M3P61KuU4x8vrsifJski2ZlHdDsUd1K6poJHI1lc.\"\n",
    "\n",
    "print(s[a:b+1]), print(s[c:d+1])"
   ]
  },
  {
   "cell_type": "code",
   "execution_count": 2,
   "id": "fd8b82f2",
   "metadata": {},
   "outputs": [
    {
     "data": {
      "text/plain": [
       "15039881"
      ]
     },
     "execution_count": 2,
     "metadata": {},
     "output_type": "execute_result"
    }
   ],
   "source": [
    "a = 4624 \n",
    "b = 9029\n",
    "sum([i for i in range(a, b + 1) if i % 2 != 0])"
   ]
  },
  {
   "cell_type": "code",
   "execution_count": 3,
   "id": "ba7e4e7f",
   "metadata": {},
   "outputs": [
    {
     "data": {
      "text/plain": [
       "['Bravely bold Sir Robin rode forth from Camelot\\n',\n",
       " 'Yes, brave Sir Robin turned about\\n',\n",
       " 'He was not afraid to die, O brave Sir Robin\\n',\n",
       " 'And gallantly he chickened out\\n',\n",
       " 'He was not at all afraid to be killed in nasty ways\\n',\n",
       " 'Bravely talking to his feet\\n',\n",
       " 'Brave, brave, brave, brave Sir Robin\\n',\n",
       " 'He beat a very brave retreat']"
      ]
     },
     "execution_count": 3,
     "metadata": {},
     "output_type": "execute_result"
    }
   ],
   "source": [
    "f = open(\"pythontest.txt\", \"r\")\n",
    "f.readlines()"
   ]
  },
  {
   "cell_type": "code",
   "execution_count": 12,
   "id": "ffed90d7",
   "metadata": {},
   "outputs": [
    {
     "ename": "NameError",
     "evalue": "name 'strip' is not defined",
     "output_type": "error",
     "traceback": [
      "\u001b[1;31m---------------------------------------------------------------------------\u001b[0m",
      "\u001b[1;31mNameError\u001b[0m                                 Traceback (most recent call last)",
      "\u001b[1;32m~\\AppData\\Local\\Temp/ipykernel_8528/1581754749.py\u001b[0m in \u001b[0;36m<module>\u001b[1;34m\u001b[0m\n\u001b[0;32m      1\u001b[0m \u001b[0mf\u001b[0m \u001b[1;33m=\u001b[0m \u001b[0mopen\u001b[0m\u001b[1;33m(\u001b[0m\u001b[1;34m\"pythontest.txt\"\u001b[0m\u001b[1;33m,\u001b[0m \u001b[1;34m\"r\"\u001b[0m\u001b[1;33m)\u001b[0m\u001b[1;33m\u001b[0m\u001b[1;33m\u001b[0m\u001b[0m\n\u001b[0;32m      2\u001b[0m \u001b[0mf\u001b[0m\u001b[1;33m.\u001b[0m\u001b[0mreadlines\u001b[0m\u001b[1;33m(\u001b[0m\u001b[1;33m)\u001b[0m\u001b[1;33m\u001b[0m\u001b[1;33m\u001b[0m\u001b[0m\n\u001b[1;32m----> 3\u001b[1;33m \u001b[0mstrip\u001b[0m\u001b[1;33m(\u001b[0m\u001b[1;33m)\u001b[0m\u001b[1;33m\u001b[0m\u001b[1;33m\u001b[0m\u001b[0m\n\u001b[0m",
      "\u001b[1;31mNameError\u001b[0m: name 'strip' is not defined"
     ]
    }
   ],
   "source": [
    "f = open(\"pythontest.txt\", \"r\")\n",
    "f.readlines()\n",
    "strip()"
   ]
  },
  {
   "cell_type": "code",
   "execution_count": 14,
   "id": "3e304c10",
   "metadata": {},
   "outputs": [
    {
     "ename": "SyntaxError",
     "evalue": "invalid syntax (Temp/ipykernel_8528/390266159.py, line 4)",
     "output_type": "error",
     "traceback": [
      "\u001b[1;36m  File \u001b[1;32m\"C:\\Users\\ryand\\AppData\\Local\\Temp/ipykernel_8528/390266159.py\"\u001b[1;36m, line \u001b[1;32m4\u001b[0m\n\u001b[1;33m    for line in f\u001b[0m\n\u001b[1;37m                 ^\u001b[0m\n\u001b[1;31mSyntaxError\u001b[0m\u001b[1;31m:\u001b[0m invalid syntax\n"
     ]
    }
   ],
   "source": [
    "i = 1\n",
    "f = open(\"pythontest.txt\", \"r\")\n",
    "readline()[1]\n",
    "for line in f\n",
    "    f.readlines()[i + 2]"
   ]
  },
  {
   "cell_type": "code",
   "execution_count": 2,
   "id": "358cb616",
   "metadata": {},
   "outputs": [],
   "source": [
    "with open(\"rosalind_ini5.txt\", \"r\") as f:\n",
    "    outputFile = [line for pos, line in enumerate(\n",
    "        f.readlines()) if pos % 2 != 0]\n",
    "    \n",
    "with open (\"rosalindout.txt\", \"w\") as f:\n",
    "    f.write(\"\".join([line for line in outputFile]))"
   ]
  },
  {
   "cell_type": "code",
   "execution_count": 5,
   "id": "bf7003e7",
   "metadata": {},
   "outputs": [
    {
     "name": "stdout",
     "output_type": "stream",
     "text": [
      "When 1\n",
      "I 2\n",
      "find 1\n",
      "myself 1\n",
      "in 4\n",
      "times 1\n",
      "of 11\n",
      "trouble 1\n",
      "Mother 2\n",
      "Mary 2\n",
      "comes 2\n",
      "to 3\n",
      "me 4\n",
      "Speaking 3\n",
      "words 7\n",
      "wisdom 7\n",
      "let 30\n",
      "it 36\n",
      "be 41\n",
      "And 3\n",
      "my 1\n",
      "hour 1\n",
      "darkness 1\n",
      "she 1\n",
      "is 4\n",
      "standing 1\n",
      "right 1\n",
      "front 1\n",
      "Let 6\n",
      "Whisper 4\n",
      "when 2\n",
      "the 4\n",
      "broken 1\n",
      "hearted 1\n",
      "people 1\n",
      "living 1\n",
      "world 1\n",
      "agree 1\n",
      "There 4\n",
      "will 5\n",
      "an 4\n",
      "answer 4\n",
      "For 1\n",
      "though 1\n",
      "they 2\n",
      "may 1\n",
      "parted 1\n",
      "there 2\n",
      "still 2\n",
      "a 2\n",
      "chance 1\n",
      "that 2\n",
      "see 1\n",
      "night 1\n",
      "cloudy 1\n",
      "light 1\n",
      "shines 1\n",
      "on 1\n",
      "Shine 1\n",
      "until 1\n",
      "tomorrow 1\n",
      "wake 1\n",
      "up 1\n",
      "sound 1\n",
      "music 1\n",
      "yeah 2\n"
     ]
    }
   ],
   "source": [
    "txtStr = \"When I find myself in times of trouble Mother Mary comes to me Speaking words of wisdom let it be And in my hour of darkness she is standing right in front of me Speaking words of wisdom let it be Let it be let it be let it be let it be Whisper words of wisdom let it be And when the broken hearted people living in the world agree There will be an answer let it be For though they may be parted there is still a chance that they will see There will be an answer let it be Let it be let it be let it be let it be There will be an answer let it be Let it be let it be let it be let it be Whisper words of wisdom let it be Let it be let it be let it be let it be Whisper words of wisdom let it be And when the night is cloudy there is still a light that shines on me Shine until tomorrow let it be I wake up to the sound of music Mother Mary comes to me Speaking words of wisdom let it be Let it be let it be let it be yeah let it be There will be an answer let it be Let it be let it be let it be yeah let it be Whisper words of wisdom let it be\"\n",
    "\n",
    "wordCount = {}\n",
    "\n",
    "for word in txtStr.split(\" \"):\n",
    "    if word in wordCount:\n",
    "        wordCount[word] += 1\n",
    "    else:\n",
    "        wordCount[word] = 1\n",
    "        \n",
    "for key, value in wordCount.items():\n",
    "    print(key,value)\n",
    "        \n",
    "\n",
    "    "
   ]
  },
  {
   "cell_type": "code",
   "execution_count": 6,
   "id": "8e3c788d",
   "metadata": {},
   "outputs": [],
   "source": [
    "from collections import Counter"
   ]
  },
  {
   "cell_type": "code",
   "execution_count": 26,
   "id": "666745a2",
   "metadata": {},
   "outputs": [
    {
     "ename": "NameError",
     "evalue": "name 'tpmseq' is not defined",
     "output_type": "error",
     "traceback": [
      "\u001b[1;31m---------------------------------------------------------------------------\u001b[0m",
      "\u001b[1;31mNameError\u001b[0m                                 Traceback (most recent call last)",
      "\u001b[1;32m~\\AppData\\Local\\Temp/ipykernel_3216/3162288870.py\u001b[0m in \u001b[0;36m<module>\u001b[1;34m\u001b[0m\n\u001b[0;32m     11\u001b[0m     \u001b[1;32mreturn\u001b[0m \u001b[0mtmpseq\u001b[0m\u001b[1;33m\u001b[0m\u001b[1;33m\u001b[0m\u001b[0m\n\u001b[0;32m     12\u001b[0m \u001b[1;33m\u001b[0m\u001b[0m\n\u001b[1;32m---> 13\u001b[1;33m \u001b[0mprint\u001b[0m\u001b[1;33m(\u001b[0m\u001b[0mvalidateSeq\u001b[0m\u001b[1;33m(\u001b[0m\u001b[0ms\u001b[0m\u001b[1;33m)\u001b[0m\u001b[1;33m)\u001b[0m\u001b[1;33m\u001b[0m\u001b[1;33m\u001b[0m\u001b[0m\n\u001b[0m",
      "\u001b[1;32m~\\AppData\\Local\\Temp/ipykernel_3216/3162288870.py\u001b[0m in \u001b[0;36mvalidateSeq\u001b[1;34m(dna_seq)\u001b[0m\n\u001b[0;32m      6\u001b[0m \u001b[1;32mdef\u001b[0m \u001b[0mvalidateSeq\u001b[0m\u001b[1;33m(\u001b[0m\u001b[0mdna_seq\u001b[0m\u001b[1;33m)\u001b[0m\u001b[1;33m:\u001b[0m\u001b[1;33m\u001b[0m\u001b[1;33m\u001b[0m\u001b[0m\n\u001b[0;32m      7\u001b[0m     \u001b[0mtmpseq\u001b[0m \u001b[1;33m=\u001b[0m \u001b[0ms\u001b[0m\u001b[1;33m.\u001b[0m\u001b[0mupper\u001b[0m\u001b[1;33m(\u001b[0m\u001b[1;33m)\u001b[0m\u001b[1;33m\u001b[0m\u001b[1;33m\u001b[0m\u001b[0m\n\u001b[1;32m----> 8\u001b[1;33m     \u001b[1;32mfor\u001b[0m \u001b[0mnuc\u001b[0m \u001b[1;32min\u001b[0m \u001b[0mtpmseq\u001b[0m\u001b[1;33m:\u001b[0m\u001b[1;33m\u001b[0m\u001b[1;33m\u001b[0m\u001b[0m\n\u001b[0m\u001b[0;32m      9\u001b[0m         \u001b[1;32mif\u001b[0m \u001b[0mnuc\u001b[0m \u001b[1;32mnot\u001b[0m \u001b[1;32min\u001b[0m \u001b[0mNucleotides\u001b[0m\u001b[1;33m:\u001b[0m\u001b[1;33m\u001b[0m\u001b[1;33m\u001b[0m\u001b[0m\n\u001b[0;32m     10\u001b[0m             \u001b[1;32mreturn\u001b[0m \u001b[1;32mFalse\u001b[0m\u001b[1;33m\u001b[0m\u001b[1;33m\u001b[0m\u001b[0m\n",
      "\u001b[1;31mNameError\u001b[0m: name 'tpmseq' is not defined"
     ]
    }
   ],
   "source": [
    "s = \"AGCTTTTCATTCTGACTGCAACGGGCAATATGTCTCTGTGTGGATTAAAAAAAGAGTGTCTGATAGCAGC\"\n",
    "\n",
    "Nucleotides = [\"A\", \"C\", \"G\", \"T\"]\n",
    "\n",
    "# check the sequence to make sure it is a DNA sequence\n",
    "def validateSeq(dna_seq):\n",
    "    tmpseq = s.upper()\n",
    "    for nuc in tpmseq:\n",
    "        if nuc not in Nucleotides:\n",
    "            return False\n",
    "    return tmpseq\n",
    "\n",
    "print(validateSeq(s))\n"
   ]
  },
  {
   "cell_type": "code",
   "execution_count": null,
   "id": "13ca907a",
   "metadata": {},
   "outputs": [],
   "source": []
  },
  {
   "cell_type": "code",
   "execution_count": null,
   "id": "539e89ab",
   "metadata": {},
   "outputs": [],
   "source": []
  },
  {
   "cell_type": "code",
   "execution_count": null,
   "id": "0f0d4bf4",
   "metadata": {},
   "outputs": [],
   "source": []
  }
 ],
 "metadata": {
  "kernelspec": {
   "display_name": "Python 3 (ipykernel)",
   "language": "python",
   "name": "python3"
  },
  "language_info": {
   "codemirror_mode": {
    "name": "ipython",
    "version": 3
   },
   "file_extension": ".py",
   "mimetype": "text/x-python",
   "name": "python",
   "nbconvert_exporter": "python",
   "pygments_lexer": "ipython3",
   "version": "3.9.7"
  }
 },
 "nbformat": 4,
 "nbformat_minor": 5
}
