{
 "cells": [
  {
   "cell_type": "code",
   "execution_count": 1,
   "id": "89358dbf",
   "metadata": {},
   "outputs": [
    {
     "data": {
      "text/plain": [
       "25"
      ]
     },
     "execution_count": 1,
     "metadata": {},
     "output_type": "execute_result"
    }
   ],
   "source": [
    "3*3 + 4*4"
   ]
  },
  {
   "cell_type": "code",
   "execution_count": 2,
   "id": "631f9d14",
   "metadata": {},
   "outputs": [
    {
     "data": {
      "text/plain": [
       "164"
      ]
     },
     "execution_count": 2,
     "metadata": {},
     "output_type": "execute_result"
    }
   ],
   "source": [
    "963^2+867^2\n"
   ]
  },
  {
   "cell_type": "code",
   "execution_count": 3,
   "id": "41ad4a4a",
   "metadata": {},
   "outputs": [
    {
     "data": {
      "text/plain": [
       "1679058"
      ]
     },
     "execution_count": 3,
     "metadata": {},
     "output_type": "execute_result"
    }
   ],
   "source": [
    "(963*963)+(867*867)"
   ]
  },
  {
   "cell_type": "code",
   "execution_count": null,
   "id": "2c2dd7f4",
   "metadata": {},
   "outputs": [],
   "source": []
  }
 ],
 "metadata": {
  "kernelspec": {
   "display_name": "Python 3 (ipykernel)",
   "language": "python",
   "name": "python3"
  },
  "language_info": {
   "codemirror_mode": {
    "name": "ipython",
    "version": 3
   },
   "file_extension": ".py",
   "mimetype": "text/x-python",
   "name": "python",
   "nbconvert_exporter": "python",
   "pygments_lexer": "ipython3",
   "version": "3.9.7"
  }
 },
 "nbformat": 4,
 "nbformat_minor": 5
}
